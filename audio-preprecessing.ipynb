{
 "cells": [
  {
   "cell_type": "code",
   "execution_count": 1,
   "id": "00e1a235",
   "metadata": {
    "execution": {
     "iopub.execute_input": "2024-03-14T14:06:39.660283Z",
     "iopub.status.busy": "2024-03-14T14:06:39.659433Z",
     "iopub.status.idle": "2024-03-14T14:07:16.047722Z",
     "shell.execute_reply": "2024-03-14T14:07:16.046600Z"
    },
    "papermill": {
     "duration": 36.396259,
     "end_time": "2024-03-14T14:07:16.050365",
     "exception": false,
     "start_time": "2024-03-14T14:06:39.654106",
     "status": "completed"
    },
    "tags": []
   },
   "outputs": [
    {
     "name": "stdout",
     "output_type": "stream",
     "text": [
      "Collecting denoiser\r\n",
      "  Downloading denoiser-0.1.5.tar.gz (49 kB)\r\n",
      "\u001b[2K     \u001b[90m━━━━━━━━━━━━━━━━━━━━━━━━━━━━━━━━━━━━━━━━\u001b[0m \u001b[32m49.8/49.8 kB\u001b[0m \u001b[31m3.1 MB/s\u001b[0m eta \u001b[36m0:00:00\u001b[0m\r\n",
      "\u001b[?25h  Preparing metadata (setup.py) ... \u001b[?25l-\b \b\\\b \bdone\r\n",
      "\u001b[?25hCollecting julius (from denoiser)\r\n",
      "  Downloading julius-0.2.7.tar.gz (59 kB)\r\n",
      "\u001b[2K     \u001b[90m━━━━━━━━━━━━━━━━━━━━━━━━━━━━━━━━━━━━━━━━\u001b[0m \u001b[32m59.6/59.6 kB\u001b[0m \u001b[31m4.4 MB/s\u001b[0m eta \u001b[36m0:00:00\u001b[0m\r\n",
      "\u001b[?25h  Preparing metadata (setup.py) ... \u001b[?25l-\b \bdone\r\n",
      "\u001b[?25hCollecting hydra_core<1.0 (from denoiser)\r\n",
      "  Downloading hydra_core-0.11.3-py3-none-any.whl.metadata (2.2 kB)\r\n",
      "Collecting hydra_colorlog<1.0 (from denoiser)\r\n",
      "  Downloading hydra_colorlog-0.1.4-py3-none-any.whl.metadata (1.0 kB)\r\n",
      "Requirement already satisfied: numpy>=1.19 in /opt/conda/lib/python3.10/site-packages (from denoiser) (1.26.4)\r\n",
      "Collecting pystoi>=0.3.3 (from denoiser)\r\n",
      "  Downloading pystoi-0.4.1-py2.py3-none-any.whl.metadata (4.0 kB)\r\n",
      "Requirement already satisfied: six in /opt/conda/lib/python3.10/site-packages (from denoiser) (1.16.0)\r\n",
      "Collecting sounddevice>=0.4 (from denoiser)\r\n",
      "  Downloading sounddevice-0.4.6-py3-none-any.whl.metadata (1.4 kB)\r\n",
      "Requirement already satisfied: torch>=1.5 in /opt/conda/lib/python3.10/site-packages (from denoiser) (2.1.2)\r\n",
      "Requirement already satisfied: torchaudio>=0.5 in /opt/conda/lib/python3.10/site-packages (from denoiser) (2.1.2)\r\n",
      "Requirement already satisfied: colorlog in /opt/conda/lib/python3.10/site-packages (from hydra_colorlog<1.0->denoiser) (6.8.2)\r\n",
      "Collecting omegaconf<1.5,>=1.4 (from hydra_core<1.0->denoiser)\r\n",
      "  Downloading omegaconf-1.4.1-py3-none-any.whl.metadata (2.9 kB)\r\n",
      "Requirement already satisfied: scipy in /opt/conda/lib/python3.10/site-packages (from pystoi>=0.3.3->denoiser) (1.11.4)\r\n",
      "Requirement already satisfied: CFFI>=1.0 in /opt/conda/lib/python3.10/site-packages (from sounddevice>=0.4->denoiser) (1.16.0)\r\n",
      "Requirement already satisfied: filelock in /opt/conda/lib/python3.10/site-packages (from torch>=1.5->denoiser) (3.13.1)\r\n",
      "Requirement already satisfied: typing-extensions in /opt/conda/lib/python3.10/site-packages (from torch>=1.5->denoiser) (4.9.0)\r\n",
      "Requirement already satisfied: sympy in /opt/conda/lib/python3.10/site-packages (from torch>=1.5->denoiser) (1.12)\r\n",
      "Requirement already satisfied: networkx in /opt/conda/lib/python3.10/site-packages (from torch>=1.5->denoiser) (3.2.1)\r\n",
      "Requirement already satisfied: jinja2 in /opt/conda/lib/python3.10/site-packages (from torch>=1.5->denoiser) (3.1.2)\r\n",
      "Requirement already satisfied: fsspec in /opt/conda/lib/python3.10/site-packages (from torch>=1.5->denoiser) (2024.2.0)\r\n",
      "Requirement already satisfied: pycparser in /opt/conda/lib/python3.10/site-packages (from CFFI>=1.0->sounddevice>=0.4->denoiser) (2.21)\r\n",
      "Requirement already satisfied: PyYAML in /opt/conda/lib/python3.10/site-packages (from omegaconf<1.5,>=1.4->hydra_core<1.0->denoiser) (6.0.1)\r\n",
      "Requirement already satisfied: MarkupSafe>=2.0 in /opt/conda/lib/python3.10/site-packages (from jinja2->torch>=1.5->denoiser) (2.1.3)\r\n",
      "Requirement already satisfied: mpmath>=0.19 in /opt/conda/lib/python3.10/site-packages (from sympy->torch>=1.5->denoiser) (1.3.0)\r\n",
      "Downloading hydra_colorlog-0.1.4-py3-none-any.whl (4.0 kB)\r\n",
      "Downloading hydra_core-0.11.3-py3-none-any.whl (72 kB)\r\n",
      "\u001b[2K   \u001b[90m━━━━━━━━━━━━━━━━━━━━━━━━━━━━━━━━━━━━━━━━\u001b[0m \u001b[32m72.1/72.1 kB\u001b[0m \u001b[31m6.0 MB/s\u001b[0m eta \u001b[36m0:00:00\u001b[0m\r\n",
      "\u001b[?25hDownloading pystoi-0.4.1-py2.py3-none-any.whl (8.2 kB)\r\n",
      "Downloading sounddevice-0.4.6-py3-none-any.whl (31 kB)\r\n",
      "Downloading omegaconf-1.4.1-py3-none-any.whl (14 kB)\r\n",
      "Building wheels for collected packages: denoiser, julius\r\n",
      "  Building wheel for denoiser (setup.py) ... \u001b[?25l-\b \b\\\b \bdone\r\n",
      "\u001b[?25h  Created wheel for denoiser: filename=denoiser-0.1.5-py3-none-any.whl size=43822 sha256=efd993539e277f8d24580522731a0c2b8845d06759b3938834f52fe5df677546\r\n",
      "  Stored in directory: /root/.cache/pip/wheels/f1/57/3f/7ce0ae586d457c598b2cb275a37801ff5a705f656ba7a0215e\r\n",
      "  Building wheel for julius (setup.py) ... \u001b[?25l-\b \bdone\r\n",
      "\u001b[?25h  Created wheel for julius: filename=julius-0.2.7-py3-none-any.whl size=21870 sha256=493951844ee971402362d5e18e036470dc9d452b214e126124382e3eb832e410\r\n",
      "  Stored in directory: /root/.cache/pip/wheels/b9/b2/05/f883527ffcb7f2ead5438a2c23439aa0c881eaa9a4c80256f4\r\n",
      "Successfully built denoiser julius\r\n",
      "Installing collected packages: omegaconf, sounddevice, pystoi, hydra_core, julius, hydra_colorlog, denoiser\r\n",
      "Successfully installed denoiser-0.1.5 hydra_colorlog-0.1.4 hydra_core-0.11.3 julius-0.2.7 omegaconf-1.4.1 pystoi-0.4.1 sounddevice-0.4.6\r\n",
      "Collecting audiosegment\r\n",
      "  Downloading audiosegment-0.23.0-py3-none-any.whl.metadata (1.4 kB)\r\n",
      "Requirement already satisfied: pydub in /opt/conda/lib/python3.10/site-packages (from audiosegment) (0.25.1)\r\n",
      "Collecting webrtcvad (from audiosegment)\r\n",
      "  Downloading webrtcvad-2.0.10.tar.gz (66 kB)\r\n",
      "\u001b[2K     \u001b[90m━━━━━━━━━━━━━━━━━━━━━━━━━━━━━━━━━━━━━━━━\u001b[0m \u001b[32m66.2/66.2 kB\u001b[0m \u001b[31m4.9 MB/s\u001b[0m eta \u001b[36m0:00:00\u001b[0m\r\n",
      "\u001b[?25h  Preparing metadata (setup.py) ... \u001b[?25l-\b \bdone\r\n",
      "\u001b[?25hRequirement already satisfied: numpy in /opt/conda/lib/python3.10/site-packages (from audiosegment) (1.26.4)\r\n",
      "Downloading audiosegment-0.23.0-py3-none-any.whl (34 kB)\r\n",
      "Building wheels for collected packages: webrtcvad\r\n",
      "  Building wheel for webrtcvad (setup.py) ... \u001b[?25l-\b \b\\\b \bdone\r\n",
      "\u001b[?25h  Created wheel for webrtcvad: filename=webrtcvad-2.0.10-cp310-cp310-linux_x86_64.whl size=27295 sha256=43049c8c2400d7e6cd9665973477df260c34d3e6d478b53233c33117cb789212\r\n",
      "  Stored in directory: /root/.cache/pip/wheels/2a/2b/84/ac7bacfe8c68a87c1ee3dd3c66818a54c71599abf308e8eb35\r\n",
      "Successfully built webrtcvad\r\n",
      "Installing collected packages: webrtcvad, audiosegment\r\n",
      "Successfully installed audiosegment-0.23.0 webrtcvad-2.0.10\r\n"
     ]
    }
   ],
   "source": [
    "!pip install -U denoiser\n",
    "!pip install audiosegment"
   ]
  },
  {
   "cell_type": "code",
   "execution_count": 2,
   "id": "f14ac98c",
   "metadata": {
    "execution": {
     "iopub.execute_input": "2024-03-14T14:07:16.064505Z",
     "iopub.status.busy": "2024-03-14T14:07:16.064164Z",
     "iopub.status.idle": "2024-03-14T14:07:21.288913Z",
     "shell.execute_reply": "2024-03-14T14:07:21.288135Z"
    },
    "papermill": {
     "duration": 5.234439,
     "end_time": "2024-03-14T14:07:21.291227",
     "exception": false,
     "start_time": "2024-03-14T14:07:16.056788",
     "status": "completed"
    },
    "tags": []
   },
   "outputs": [],
   "source": [
    "from scipy.io import wavfile\n",
    "from IPython import display as disp\n",
    "import torch\n",
    "import torchaudio\n",
    "from denoiser import pretrained\n",
    "from denoiser.dsp import convert_audio\n",
    "from pathlib import Path\n",
    "from pydub.silence import split_on_silence\n",
    "import numpy as np\n",
    "import audiosegment\n",
    "from pydub import AudioSegment"
   ]
  },
  {
   "cell_type": "code",
   "execution_count": 3,
   "id": "b7cb862a",
   "metadata": {
    "_cell_guid": "b1076dfc-b9ad-4769-8c92-a6c4dae69d19",
    "_uuid": "8f2839f25d086af736a60e9eeb907d3b93b6e0e5",
    "execution": {
     "iopub.execute_input": "2024-03-14T14:07:21.304814Z",
     "iopub.status.busy": "2024-03-14T14:07:21.304427Z",
     "iopub.status.idle": "2024-03-14T14:07:21.308864Z",
     "shell.execute_reply": "2024-03-14T14:07:21.308043Z"
    },
    "papermill": {
     "duration": 0.013231,
     "end_time": "2024-03-14T14:07:21.310778",
     "exception": false,
     "start_time": "2024-03-14T14:07:21.297547",
     "status": "completed"
    },
    "tags": []
   },
   "outputs": [],
   "source": [
    "import os\n",
    "os.mkdir(Path(\"/kaggle/working/data\"))  "
   ]
  },
  {
   "cell_type": "code",
   "execution_count": 4,
   "id": "c764689b",
   "metadata": {
    "execution": {
     "iopub.execute_input": "2024-03-14T14:07:21.323761Z",
     "iopub.status.busy": "2024-03-14T14:07:21.323505Z",
     "iopub.status.idle": "2024-03-14T14:07:23.474097Z",
     "shell.execute_reply": "2024-03-14T14:07:23.473316Z"
    },
    "papermill": {
     "duration": 2.15977,
     "end_time": "2024-03-14T14:07:23.476410",
     "exception": false,
     "start_time": "2024-03-14T14:07:21.316640",
     "status": "completed"
    },
    "tags": []
   },
   "outputs": [
    {
     "name": "stderr",
     "output_type": "stream",
     "text": [
      "Downloading: \"https://dl.fbaipublicfiles.com/adiyoss/denoiser/dns64-a7761ff99a7d5bb6.th\" to /root/.cache/torch/hub/checkpoints/dns64-a7761ff99a7d5bb6.th\n",
      "100%|██████████| 128M/128M [00:00<00:00, 265MB/s]\n"
     ]
    }
   ],
   "source": [
    "model = pretrained.dns64().cuda()"
   ]
  },
  {
   "cell_type": "code",
   "execution_count": 5,
   "id": "d7f5ffc0",
   "metadata": {
    "execution": {
     "iopub.execute_input": "2024-03-14T14:07:23.491957Z",
     "iopub.status.busy": "2024-03-14T14:07:23.491645Z",
     "iopub.status.idle": "2024-03-14T14:07:23.497705Z",
     "shell.execute_reply": "2024-03-14T14:07:23.496784Z"
    },
    "papermill": {
     "duration": 0.016084,
     "end_time": "2024-03-14T14:07:23.499689",
     "exception": false,
     "start_time": "2024-03-14T14:07:23.483605",
     "status": "completed"
    },
    "tags": []
   },
   "outputs": [],
   "source": [
    "def denose(file_path):\n",
    "    wav, sr = torchaudio.load(file_path)\n",
    "    wav = convert_audio(wav.cuda(), sr, model.sample_rate, model.chin)\n",
    "    with torch.no_grad():\n",
    "        denoised = model(wav[None])[0]\n",
    "    \n",
    "    file_path = file_path.split('/')[-1]\n",
    "    \n",
    "    wavfile.write(f'/kaggle/working/data/{file_path}', model.sample_rate, denoised.data.cpu().numpy().T)"
   ]
  },
  {
   "cell_type": "code",
   "execution_count": 6,
   "id": "eaa6e8b5",
   "metadata": {
    "execution": {
     "iopub.execute_input": "2024-03-14T14:07:23.514363Z",
     "iopub.status.busy": "2024-03-14T14:07:23.514109Z",
     "iopub.status.idle": "2024-03-14T14:07:23.519773Z",
     "shell.execute_reply": "2024-03-14T14:07:23.518910Z"
    },
    "papermill": {
     "duration": 0.015232,
     "end_time": "2024-03-14T14:07:23.521735",
     "exception": false,
     "start_time": "2024-03-14T14:07:23.506503",
     "status": "completed"
    },
    "tags": []
   },
   "outputs": [],
   "source": [
    "def remove_silence(file_path):\n",
    "    audio_format = \"wav\"\n",
    "    \n",
    "    sound = AudioSegment.from_file(file_path, format = audio_format)\n",
    "    audio_chunks = split_on_silence(sound\n",
    "                            ,min_silence_len = 100\n",
    "                            ,silence_thresh = -30\n",
    "                            ,keep_silence = 500\n",
    "                        )\n",
    "\n",
    "    combined = AudioSegment.empty()\n",
    "    for chunk in audio_chunks:\n",
    "        combined += chunk\n",
    "        \n",
    "    file_path = file_path.split('/')[-1]\n",
    "    combined.export(f'/kaggle/working/data/{file_path}', format = audio_format)"
   ]
  },
  {
   "cell_type": "code",
   "execution_count": 7,
   "id": "6f6faedd",
   "metadata": {
    "execution": {
     "iopub.execute_input": "2024-03-14T14:07:23.536606Z",
     "iopub.status.busy": "2024-03-14T14:07:23.535929Z",
     "iopub.status.idle": "2024-03-14T14:12:11.394175Z",
     "shell.execute_reply": "2024-03-14T14:12:11.393092Z"
    },
    "papermill": {
     "duration": 287.868318,
     "end_time": "2024-03-14T14:12:11.396825",
     "exception": false,
     "start_time": "2024-03-14T14:07:23.528507",
     "status": "completed"
    },
    "tags": []
   },
   "outputs": [],
   "source": [
    "p = Path(\"/kaggle/input/control-group\")\n",
    "\n",
    "for x in p.iterdir():\n",
    "    denose(str(x)) \n",
    "\n",
    "new_p = Path('/kaggle/working/data')\n",
    "\n",
    "for x in new_p.iterdir():\n",
    "    remove_silence(str(x)) "
   ]
  },
  {
   "cell_type": "code",
   "execution_count": 8,
   "id": "7617509d",
   "metadata": {
    "execution": {
     "iopub.execute_input": "2024-03-14T14:12:11.412040Z",
     "iopub.status.busy": "2024-03-14T14:12:11.411746Z",
     "iopub.status.idle": "2024-03-14T14:12:43.516547Z",
     "shell.execute_reply": "2024-03-14T14:12:43.515454Z"
    },
    "papermill": {
     "duration": 32.115273,
     "end_time": "2024-03-14T14:12:43.519146",
     "exception": false,
     "start_time": "2024-03-14T14:12:11.403873",
     "status": "completed"
    },
    "tags": []
   },
   "outputs": [
    {
     "name": "stdout",
     "output_type": "stream",
     "text": [
      "  adding: kaggle/working/data/ (stored 0%)\r\n",
      "  adding: kaggle/working/data/PN-026-instr-1-chair (mp3cut.net).wav (deflated 7%)\r\n",
      "  adding: kaggle/working/data/PN-002-pic-1-sportsman (mp3cut.net).wav (deflated 8%)\r\n",
      "  adding: kaggle/working/data/PN-051-pic-1-winterday (mp3cut.net).wav (deflated 9%)\r\n",
      "  adding: kaggle/working/data/PN-051-pers-1-trip (mp3cut.net).wav (deflated 8%)\r\n",
      "  adding: kaggle/working/data/PN-303-instr-1-chair (mp3cut.net).wav (deflated 7%)\r\n",
      "  adding: kaggle/working/data/PN-003-pic-1-sportsman (mp3cut.net).wav (deflated 6%)\r\n",
      "  adding: kaggle/working/data/PN-068-instr-1-bench (mp3cut.net).wav (deflated 8%)\r\n",
      "  adding: kaggle/working/data/PN-057-pers-1-trip (mp3cut.net).wav (deflated 7%)\r\n",
      "  adding: kaggle/working/data/PN-319-instr-1-table (mp3cut.net).wav (deflated 8%)\r\n",
      "  adding: kaggle/working/data/PN-319-pic-1-party (mp3cut.net).wav (deflated 8%)\r\n",
      "  adding: kaggle/working/data/PN-017-pic-1-adventure (mp3cut.net).wav (deflated 7%)\r\n",
      "  adding: kaggle/working/data/PN-050-instr-1-bench (mp3cut.net).wav (deflated 7%)\r\n",
      "  adding: kaggle/working/data/PN-002-pers-1-present (mp3cut.net).wav (deflated 8%)\r\n",
      "  adding: kaggle/working/data/PN-003-pic-1-adventure (mp3cut.net).wav (deflated 5%)\r\n",
      "  adding: kaggle/working/data/PN-087-instr-1-bench (mp3cut.net).wav (deflated 9%)\r\n",
      "  adding: kaggle/working/data/PN-065-pers-1-trip (mp3cut.net).wav (deflated 6%)\r\n",
      "  adding: kaggle/working/data/PN-270-pers-1-present (mp3cut.net).wav (deflated 7%)\r\n",
      "  adding: kaggle/working/data/PN-068-pers-1-trip (mp3cut.net).wav (deflated 7%)\r\n",
      "  adding: kaggle/working/data/PN-241-instr-1-bench (mp3cut.net).wav (deflated 9%)\r\n",
      "  adding: kaggle/working/data/PN-067-pers-1-party (mp3cut.net).wav (deflated 7%)\r\n",
      "  adding: kaggle/working/data/PN-002-pers-1-present (mp3cut.net) (1).wav (deflated 8%)\r\n",
      "  adding: kaggle/working/data/PN-301-pers-1-trip (mp3cut.net).wav (deflated 6%)\r\n",
      "  adding: kaggle/working/data/PN-266-instr-1-chair (mp3cut.net).wav (deflated 10%)\r\n",
      "  adding: kaggle/working/data/PN-023-pers-1-present (mp3cut.net).wav (deflated 9%)\r\n",
      "  adding: kaggle/working/data/PN-068-pic-1-sportsman (mp3cut.net).wav (deflated 6%)\r\n",
      "  adding: kaggle/working/data/PN-017-pers-1-present (mp3cut.net).wav (deflated 6%)\r\n",
      "  adding: kaggle/working/data/PN-315-instr-1-bench (mp3cut.net).wav (deflated 8%)\r\n",
      "  adding: kaggle/working/data/PN-075-pic-1-adventure (mp3cut.net).wav (deflated 7%)\r\n",
      "  adding: kaggle/working/data/PN-058-pers-1-trip (mp3cut.net).wav (deflated 7%)\r\n",
      "  adding: kaggle/working/data/PN-241-pers-1-trip (mp3cut.net).wav (deflated 9%)\r\n",
      "  adding: kaggle/working/data/PN-070-instr-1-bench (mp3cut.net).wav (deflated 7%)\r\n",
      "  adding: kaggle/working/data/PN-319-pers-1-winterday (mp3cut.net).wav (deflated 8%)\r\n",
      "  adding: kaggle/working/data/PN-303-pic-1-sportsman (mp3cut.net).wav (deflated 9%)\r\n",
      "  adding: kaggle/working/data/PN-048-pic-1-winterday (mp3cut.net).wav (deflated 6%)\r\n",
      "  adding: kaggle/working/data/PN-067-pic-1-sportsman (mp3cut.net).wav (deflated 7%)\r\n",
      "  adding: kaggle/working/data/PN-034-pers-1-present (mp3cut.net).wav (deflated 7%)\r\n",
      "  adding: kaggle/working/data/PN-022-pic-1-sportsman (mp3cut.net).wav (deflated 6%)\r\n",
      "  adding: kaggle/working/data/PN-001-instr-1-chair (mp3cut.net).wav (deflated 8%)\r\n",
      "  adding: kaggle/working/data/PN-050-pers-1-trip (mp3cut.net).wav (deflated 6%)\r\n",
      "  adding: kaggle/working/data/PN-266-pers-1-present (mp3cut.net).wav (deflated 10%)\r\n",
      "  adding: kaggle/working/data/PN-301-pic-1-adventure (mp3cut.net).wav (deflated 7%)\r\n",
      "  adding: kaggle/working/data/PN-315-pic-1-adventure (mp3cut.net).wav (deflated 7%)\r\n",
      "  adding: kaggle/working/data/PN-043-instr-1-table (mp3cut.net).wav (deflated 9%)\r\n",
      "  adding: kaggle/working/data/PN-051-instr-1-table (mp3cut.net).wav (deflated 10%)\r\n",
      "  adding: kaggle/working/data/PN-023-instr-1-chair (mp3cut.net).wav (deflated 8%)\r\n",
      "  adding: kaggle/working/data/PN-266-pic-1-adventure (mp3cut.net).wav (deflated 10%)\r\n",
      "  adding: kaggle/working/data/PN-003-pers-1-present (mp3cut.net).wav (deflated 5%)\r\n",
      "  adding: kaggle/working/data/PN-065-instr-1-table (mp3cut.net).wav (deflated 8%)\r\n",
      "  adding: kaggle/working/data/PN-064-pers-1-present (mp3cut.net).wav (deflated 6%)\r\n",
      "  adding: kaggle/working/data/PN-028-instr-1-chair (mp3cut.net).wav (deflated 10%)\r\n",
      "  adding: kaggle/working/data/PN-241-pic-1-adventure (mp3cut.net).wav (deflated 9%)\r\n",
      "  adding: kaggle/working/data/PN-315-pers-1-party (mp3cut.net).wav (deflated 6%)\r\n",
      "  adding: kaggle/working/data/PN-064-pic-1-sportsman (mp3cut.net).wav (deflated 6%)\r\n",
      "  adding: kaggle/working/data/PN-064-instr-1-chair (mp3cut.net).wav (deflated 6%)\r\n",
      "  adding: kaggle/working/data/PN-075-pers-1-trip (mp3cut.net).wav (deflated 8%)\r\n",
      "  adding: kaggle/working/data/PN-048-pers-1-present (mp3cut.net).wav (deflated 6%)\r\n",
      "  adding: kaggle/working/data/PN-058-pic-1-adventure (mp3cut.net).wav (deflated 8%)\r\n",
      "  adding: kaggle/working/data/PN-320-pic-1-adventure (mp3cut.net).wav (deflated 6%)\r\n",
      "  adding: kaggle/working/data/PN-017-pic-1-sportsman (mp3cut.net).wav (deflated 6%)\r\n",
      "  adding: kaggle/working/data/PN-028-pers-1-present (mp3cut.net).wav (deflated 8%)\r\n",
      "  adding: kaggle/working/data/PN-058-instr-1-table (mp3cut.net).wav (deflated 9%)\r\n",
      "  adding: kaggle/working/data/PN-022-pic-1-adventure (mp3cut.net).wav (deflated 7%)\r\n",
      "  adding: kaggle/working/data/PN-026-pers-1-present (mp3cut.net).wav (deflated 7%)\r\n",
      "  adding: kaggle/working/data/PN-035-instr-1-chair (mp3cut.net).wav (deflated 8%)\r\n",
      "  adding: kaggle/working/data/PN-001-pic-1-sportsman (mp3cut.net).wav (deflated 9%)\r\n",
      "  adding: kaggle/working/data/PN-270-instr-1-bench (mp3cut.net).wav (deflated 9%)\r\n",
      "  adding: kaggle/working/data/PN-303-pers-1-present (mp3cut.net).wav (deflated 10%)\r\n",
      "  adding: kaggle/working/data/PN-034-instr-1-bench (mp3cut.net).wav (deflated 8%)\r\n",
      "  adding: kaggle/working/data/PN-087-pic-1-adventure (mp3cut.net).wav (deflated 8%)\r\n",
      "  adding: kaggle/working/data/PN-017-instr-1-chair (mp3cut.net).wav (deflated 7%)\r\n",
      "  adding: kaggle/working/data/PN-320-instr-1-table (mp3cut.net).wav (deflated 8%)\r\n",
      "  adding: kaggle/working/data/PN-070-pic-1-sportsman (mp3cut.net).wav (deflated 5%)\r\n",
      "  adding: kaggle/working/data/PN-065-pic-1-sportsman (mp3cut.net).wav (deflated 7%)\r\n",
      "  adding: kaggle/working/data/PN-070-pers-1-present (mp3cut.net).wav (deflated 6%)\r\n",
      "  adding: kaggle/working/data/PN-043-pic-1-sportsman (mp3cut.net).wav (deflated 8%)\r\n",
      "  adding: kaggle/working/data/PN-019-pic-1-sportsman (mp3cut.net).wav (deflated 9%)\r\n",
      "  adding: kaggle/working/data/PN-035-instr-1-chair (mp3cut.net) (1).wav (deflated 8%)\r\n",
      "  adding: kaggle/working/data/PN-043-pers-1-trip (mp3cut.net).wav (deflated 9%)\r\n",
      "  adding: kaggle/working/data/PN-301-instr-1-chair (mp3cut.net).wav (deflated 7%)\r\n",
      "  adding: kaggle/working/data/PN-057-pic-1-winterday (mp3cut.net).wav (deflated 7%)\r\n",
      "  adding: kaggle/working/data/PN-023-pic-1-adventure (mp3cut.net).wav (deflated 7%)\r\n",
      "  adding: kaggle/working/data/PN-002-pic-1-adventure (mp3cut.net).wav (deflated 11%)\r\n",
      "  adding: kaggle/working/data/PN-019-pers-1-present (mp3cut.net).wav (deflated 9%)\r\n",
      "  adding: kaggle/working/data/PN-035-pic-1-winterday (mp3cut.net).wav (deflated 8%)\r\n",
      "  adding: kaggle/working/data/PN-001-pers-present (mp3cut.net).wav (deflated 10%)\r\n",
      "  adding: kaggle/working/data/PN-026-pic-1-adventure (mp3cut.net).wav (deflated 7%)\r\n",
      "  adding: kaggle/working/data/PN-034-pic-1-winterday (mp3cut.net).wav (deflated 9%)\r\n",
      "  adding: kaggle/working/data/PN-048-instr-1-bench (mp3cut.net).wav (deflated 6%)\r\n",
      "  adding: kaggle/working/data/PN-087-pers-1-trip (mp3cut.net).wav (deflated 8%)\r\n",
      "  adding: kaggle/working/data/PN-320-pers-1-trip (mp3cut.net).wav (deflated 8%)\r\n",
      "  adding: kaggle/working/data/PN-028-pic-1-adventure (mp3cut.net).wav (deflated 8%)\r\n",
      "  adding: kaggle/working/data/PN-050-pic-1-adventure (mp3cut.net).wav (deflated 7%)\r\n",
      "  adding: kaggle/working/data/PN-022-pers-1-present (mp3cut.net).wav (deflated 7%)\r\n",
      "  adding: kaggle/working/data/PN-057-instr-1-table (mp3cut.net).wav (deflated 8%)\r\n",
      "  adding: kaggle/working/data/PN-002-instr-1-chair (mp3cut.net).wav (deflated 9%)\r\n",
      "  adding: kaggle/working/data/PN-270-pic-1-winterday (mp3cut.net).wav (deflated 9%)\r\n",
      "  adding: kaggle/working/data/PN-075-instr-1-table (mp3cut.net).wav (deflated 8%)\r\n",
      "  adding: kaggle/working/data/PN-026-pic-1-sportsman (mp3cut.net).wav (deflated 7%)\r\n",
      "  adding: kaggle/working/data/PN-023-pic-1-sportsman (mp3cut.net).wav (deflated 8%)\r\n",
      "  adding: kaggle/working/data/PN-022-instr-1-chair (mp3cut.net).wav (deflated 8%)\r\n",
      "  adding: kaggle/working/data/PN-067-instr-1-table (mp3cut.net).wav (deflated 8%)\r\n",
      "  adding: kaggle/working/data/PN-028-pic-1-sportsman (mp3cut.net).wav (deflated 8%)\r\n",
      "  adding: kaggle/working/data/PN-035-pers-1-party (mp3cut.net).wav (deflated 8%)\r\n"
     ]
    }
   ],
   "source": [
    "!zip -r control_denoised.zip \"/kaggle/working/data\""
   ]
  }
 ],
 "metadata": {
  "kaggle": {
   "accelerator": "gpu",
   "dataSources": [
    {
     "datasetId": 4594482,
     "sourceId": 7837869,
     "sourceType": "datasetVersion"
    }
   ],
   "dockerImageVersionId": 30665,
   "isGpuEnabled": true,
   "isInternetEnabled": true,
   "language": "python",
   "sourceType": "notebook"
  },
  "kernelspec": {
   "display_name": "Python 3",
   "language": "python",
   "name": "python3"
  },
  "language_info": {
   "codemirror_mode": {
    "name": "ipython",
    "version": 3
   },
   "file_extension": ".py",
   "mimetype": "text/x-python",
   "name": "python",
   "nbconvert_exporter": "python",
   "pygments_lexer": "ipython3",
   "version": "3.10.13"
  },
  "papermill": {
   "default_parameters": {},
   "duration": 367.819654,
   "end_time": "2024-03-14T14:12:44.957099",
   "environment_variables": {},
   "exception": null,
   "input_path": "__notebook__.ipynb",
   "output_path": "__notebook__.ipynb",
   "parameters": {},
   "start_time": "2024-03-14T14:06:37.137445",
   "version": "2.5.0"
  }
 },
 "nbformat": 4,
 "nbformat_minor": 5
}
